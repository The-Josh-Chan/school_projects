{
 "cells": [
  {
   "cell_type": "code",
   "execution_count": 1,
   "metadata": {},
   "outputs": [],
   "source": [
    "# # Install needed libraries\n",
    "# !python -m pip install import_ipynb \n",
    "\n",
    "import pandas as pd\n",
    "import matplotlib.pyplot as plt\n",
    "import numpy as np\n",
    "from crunch_func import *"
   ]
  },
  {
   "cell_type": "code",
   "execution_count": 2,
   "metadata": {},
   "outputs": [],
   "source": [
    "try:\n",
    "    engine_df = pd.read_csv(\"EngineData.txt\", sep='\\t')\n",
    "except FileNotFoundError:\n",
    "        print(\"Engine Data file found. Make sure file is in same directory and name is correct.\")\n"
   ]
  },
  {
   "cell_type": "code",
   "execution_count": 3,
   "metadata": {},
   "outputs": [
    {
     "name": "stdout",
     "output_type": "stream",
     "text": [
      "Found clean_1700.csv, CSV converted into dataframe.\n"
     ]
    }
   ],
   "source": [
    "cd1700 = load_data(\"clean_1700.csv\",'1700_001.txt')\n",
    "cd1700 = clean_data(cd1700)"
   ]
  },
  {
   "cell_type": "code",
   "execution_count": 4,
   "metadata": {},
   "outputs": [
    {
     "name": "stdout",
     "output_type": "stream",
     "text": [
      "*** DATA SET 1700 ***\n",
      "Number of Cycles:  2972\n",
      "Highest Pressure Reached:  31.771551599999995\n",
      "Average Pressure:  5.2649481825899995\n"
     ]
    }
   ],
   "source": [
    "print(\"*** DATA SET 1700 ***\")\n",
    "print(\"Number of Cycles: \", max(cd1700['cycle']))\n",
    "print(\"Highest Pressure Reached: \", max(cd1700['pressure_bar']))\n",
    "print(\"Average Pressure: \", sum(cd1700['pressure_bar'])/len(cd1700['pressure_bar']))\n",
    "\n",
    "eng1_data = engine_df.iloc[0]\n",
    "load = eng1_data[\"Load\"]\n",
    "espeed = eng1_data[\"Engine Speed (rpm)\"]\n",
    "torque = eng1_data[\"Torque (lb-f)\"]\n",
    "power = eng1_data[\"Power (hp)\"]\n",
    "time_2_leave = eng1_data[\"Time for 0.488 L of fuel to leave Burette (s)\"]\n",
    "air_flow_rate = eng1_data[\"Air Flow Rate (CFM)\"]\n",
    "air_in_temp = eng1_data[\"Air Intake Temperature (F)\"]\n",
    "\n",
    "# Select only wanted columns\n",
    "# cd1700 = cd1700[['time','cycle','stage','crank_ang','pressure_bar']]  \n",
    "# Select by cycle number\n",
    "# df = select_cycles(cd1700, [5,6,7])\n",
    "\n",
    "# Select which cycles need to be plotted\n",
    "# plt.scatter(df['crank_ang'],df['pressure_bar'], marker='.')\n",
    "# plt.xlim((-50,1000))"
   ]
  },
  {
   "cell_type": "code",
   "execution_count": 5,
   "metadata": {},
   "outputs": [
    {
     "name": "stdout",
     "output_type": "stream",
     "text": [
      "*** DATA SET 2730 ***\n",
      "Found clean_2730.csv, CSV converted into dataframe.\n",
      "Number of Cycles:  5906\n",
      "Highest Pressure Reached:  38.63614139999999\n",
      "Average Pressure:  1.59826272276\n"
     ]
    }
   ],
   "source": [
    "print(\"*** DATA SET 2730 ***\")\n",
    "cd2730 = load_data(\"clean_2730.csv\",'2750_001.txt')\n",
    "print(\"Number of Cycles: \", max(cd2730['cycle']))\n",
    "print(\"Highest Pressure Reached: \", max(cd2730['pressure_bar']))\n",
    "print(\"Average Pressure: \", sum(cd2730['pressure_bar'])/len(cd2730['pressure_bar']))\n",
    "cd2730 = clean_data(cd2730)"
   ]
  },
  {
   "cell_type": "code",
   "execution_count": null,
   "metadata": {},
   "outputs": [],
   "source": [
    "plt.plot(cd2730['cycle'], cd2730['ref_p'])"
   ]
  },
  {
   "cell_type": "code",
   "execution_count": null,
   "metadata": {},
   "outputs": [],
   "source": [
    "eng2_data = engine_df.iloc[1]\n",
    "load = eng2_data[\"Load\"]\n",
    "espeed = eng2_data[\"Engine Speed (rpm)\"]\n",
    "torque = eng2_data[\"Torque (lb-f)\"]\n",
    "power = eng2_data[\"Power (hp)\"]\n",
    "time_2_leave = eng2_data[\"Time for 0.488 L of fuel to leave Burette (s)\"]\n",
    "air_flow_rate = eng2_data[\"Air Flow Rate (CFM)\"]\n",
    "air_in_temp = eng2_data[\"Air Intake Temperature (F)\"]\n",
    "\n",
    "# Select only wanted columns\n",
    "# cd2730 = cd2730[['time','cycle','stage','crank_ang','pressure_bar','ref_p']]\n",
    "print(cd2730.head())\n",
    "\n",
    "# Select by cycle number\n",
    "df = select_cycles(cd2730, list(range(1000)))\n",
    "\n",
    "# Select which cycles need to be plotted\n",
    "# plt.scatter(df['crank_ang'],df['pressure_bar'], marker='.')\n",
    "# plt.xlim((-50,1000))"
   ]
  },
  {
   "cell_type": "code",
   "execution_count": null,
   "metadata": {},
   "outputs": [],
   "source": [
    "print(\"*** DATA SET cd4500 ***\")\n",
    "cd4500 = load_data(\"clean_4500.csv\",'4500_001.txt')\n",
    "print(\"Number of Cycles: \", max(cd4500['cycle']))\n",
    "print(\"Highest Pressure Reached: \", max(cd4500['pressure_bar']))\n",
    "print(\"Average Pressure: \", sum(cd4500['pressure_bar'])/len(cd4500['pressure_bar']))"
   ]
  },
  {
   "cell_type": "code",
   "execution_count": null,
   "metadata": {},
   "outputs": [],
   "source": [
    "\n",
    "\n",
    "eng3_data = engine_df.iloc[2]\n",
    "load = eng3_data[\"Load\"]\n",
    "espeed = eng3_data[\"Engine Speed (rpm)\"]\n",
    "torque = eng3_data[\"Torque (lb-f)\"]\n",
    "power = eng3_data[\"Power (hp)\"]\n",
    "time_2_leave = eng3_data[\"Time for 0.488 L of fuel to leave Burette (s)\"]\n",
    "air_flow_rate = eng3_data[\"Air Flow Rate (CFM)\"]\n",
    "air_in_temp = eng3_data[\"Air Intake Temperature (F)\"]\n",
    "\n",
    "# Select only wanted columns\n",
    "cd4500 = cd4500[['cycle','stage','crank_ang','pressure_bar']]\n",
    "print(cd4500.head())\n",
    "\n",
    "# Select by cycle number\n",
    "df = select_cycles(cd4500, list(range(1002, 1003)))\n",
    "\n",
    "# Select which cycles need to be plotted\n",
    "plt.scatter(df['crank_ang'],df['pressure_bar'], marker='.')\n",
    "plt.xlim((-50,1000))"
   ]
  }
 ],
 "metadata": {
  "kernelspec": {
   "display_name": "Python 3",
   "language": "python",
   "name": "python3"
  },
  "language_info": {
   "codemirror_mode": {
    "name": "ipython",
    "version": 3
   },
   "file_extension": ".py",
   "mimetype": "text/x-python",
   "name": "python",
   "nbconvert_exporter": "python",
   "pygments_lexer": "ipython3",
   "version": "3.12.1"
  }
 },
 "nbformat": 4,
 "nbformat_minor": 2
}
