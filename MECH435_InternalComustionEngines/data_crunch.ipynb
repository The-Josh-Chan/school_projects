{
 "cells": [
  {
   "cell_type": "code",
   "execution_count": 2,
   "metadata": {},
   "outputs": [],
   "source": [
    "# # Install needed libraries\n",
    "# !python -m pip install import_ipynb \n",
    "import pandas as pd\n",
    "import matplotlib.pyplot as plt\n",
    "import numpy as np\n",
    "from crunch_func import *"
   ]
  },
  {
   "cell_type": "code",
   "execution_count": 3,
   "metadata": {},
   "outputs": [],
   "source": [
    "try:\n",
    "    engine_df = pd.read_csv(\"EngineData.txt\", sep='\\t')\n",
    "except FileNotFoundError:\n",
    "        print(\"Engine Data file found. Make sure file is in same directory and name is correct.\")"
   ]
  },
  {
   "cell_type": "code",
   "execution_count": 4,
   "metadata": {},
   "outputs": [],
   "source": [
    "def get_tc_list(df, consec_crankv, bound):\n",
    "    cycles = 0\n",
    "    max_consec_crank = 0\n",
    "    # Getting Top Center Points\n",
    "    tc_list = []\n",
    "    v_count = 1\n",
    "    for i in range(len(df)):\n",
    "        if v_count > max_consec_crank:\n",
    "            max_consec_crank = v_count\n",
    "        if (v_count == 1) & (df['crank_v'].iloc[i] < bound):\n",
    "            tc_start = df.index[i]\n",
    "        if (df['crank_v'].iloc[i-1] < bound) & (df['crank_v'].iloc[i] < bound):\n",
    "            v_count += 1\n",
    "        if (v_count >= consec_crankv) & (df['crank_v'].iloc[i] > bound):\n",
    "            tc_list.append(tc_start)\n",
    "            v_count = 1\n",
    "            cycles += 1\n",
    "        if df['crank_v'].iloc[i] > bound:\n",
    "            v_count = 1 \n",
    "    if cycles == 0:\n",
    "        print(f\"{consec_crankv} consecutive {bound}V Crank angle readings not found\")\n",
    "        print(f\"Longest recuring voltage reading below {bound} is {max_consec_crank}\")\n",
    "        print(\"Top Center Points Not Found\")\n",
    "        return []\n",
    "    print(\"Top Center Points Found\")\n",
    "    return tc_list\n",
    "\n",
    "def get_rel_angs(df,consec_crank_times,consec_crankv):\n",
    "    tc_list = get_tc_list(df, consec_crank_times, consec_crankv)\n",
    "    ang_dic = {\n",
    "        \"tc_0\":[],\n",
    "        \"tc_360\":[],\n",
    "        \"tc_720\":[],\n",
    "    }\n",
    "    count = 0\n",
    "    for i in tc_list:\n",
    "        if count == 0:\n",
    "            ang_dic['tc_720'] += [i]\n",
    "            ang_dic['tc_0'] += [i+1]\n",
    "            count += 1\n",
    "            continue\n",
    "        elif count == 1:\n",
    "            ang_dic['tc_360'] += [i]     \n",
    "            count = 0\n",
    "            continue   \n",
    "\n",
    "    for index in ang_dic[\"tc_0\"]:\n",
    "        df.loc[index, 'state'] = 'tc_0'\n",
    "        \n",
    "    for index in ang_dic[\"tc_360\"]:\n",
    "        df.loc[index, 'state'] = 'tc_360'\n",
    "\n",
    "    for index in ang_dic[\"tc_720\"]:\n",
    "        df.loc[index, 'state'] = 'tc_720'\n",
    "\n",
    "    df.loc[df['state'] == \"tc_0\", 'rel_crank_ang'] = 0\n",
    "    df.loc[df['state'] == \"tc_360\", 'rel_crank_ang'] = 360\n",
    "    df.loc[df['state'] == \"tc_720\", 'rel_crank_ang'] = 720\n",
    "\n",
    "    tc_list = ang_dic['tc_0'] + ang_dic[\"tc_360\"] + ang_dic[\"tc_720\"]\n",
    "    tc_list.sort()\n",
    "\n",
    "    for i in range(len(tc_list)):\n",
    "        if i == len(tc_list) - 1:\n",
    "            continue\n",
    "        index = tc_list[i]\n",
    "        ang1 =  df.loc[df.index[tc_list[i]], 'rel_crank_ang']\n",
    "        dp1 = tc_list[i]\n",
    "        ang2 = df.loc[df.index[tc_list[i+1]], 'rel_crank_ang']\n",
    "        dp2 = tc_list[i+1]\n",
    "        slope = (ang2 - ang1)/(dp2-dp1)\n",
    "        points_to_inter = dp2 - dp1\n",
    "        for inter_point in range(points_to_inter):\n",
    "            inter_ang = ang2-(slope*(dp2 - (dp1 + inter_point)))\n",
    "            df.loc[df.index[dp1 + inter_point],'rel_crank_ang'] = inter_ang\n",
    "\n",
    "    df.dropna(subset=['rel_crank_ang'])\n",
    "    df = scale_pressure(df)\n",
    "    return df\n"
   ]
  },
  {
   "cell_type": "code",
   "execution_count": 10,
   "metadata": {},
   "outputs": [
    {
     "name": "stdout",
     "output_type": "stream",
     "text": [
      "*** DATA SET 1700 ***\n",
      "Top Center Points Found\n",
      "Engine Data Loaded\n",
      "Created new CSV with cleaned crunched data\n"
     ]
    }
   ],
   "source": [
    "print(\"*** DATA SET 1700 ***\")\n",
    "cd1700 = pd.read_csv('1700_001.txt',  sep='\\t', names=['time', 'crank_v', 'pressure_v'])\n",
    "cd1700_clean = get_rel_angs(cd1700, 9, 0.2)\n",
    "eng1_data = engine_df.iloc[0]\n",
    "load = eng1_data[\"Load\"]\n",
    "espeed = eng1_data[\"Engine Speed (rpm)\"]\n",
    "torque = eng1_data[\"Torque (lb-f)\"]\n",
    "power = eng1_data[\"Power (hp)\"]\n",
    "time_2_leave = eng1_data[\"Time for 0.488 L of fuel to leave Burette (s)\"]\n",
    "air_flow_rate = eng1_data[\"Air Flow Rate (CFM)\"]\n",
    "air_in_temp = eng1_data[\"Air Intake Temperature (F)\"]\n",
    "print('Engine Data Loaded')\n",
    "cd1700_clean.to_csv('clean_1700.csv', index=False)\n",
    "print('Created new CSV with cleaned crunched data')"
   ]
  },
  {
   "cell_type": "code",
   "execution_count": 9,
   "metadata": {},
   "outputs": [
    {
     "name": "stdout",
     "output_type": "stream",
     "text": [
      "Load:  1.0\n",
      "Engine Speed (rpm):  1320.0\n",
      "Torque (lb-f):  210.0\n",
      "Power (hp):  52.0\n",
      "Time for 0.488 L of fuel to leave Burette (s):  105.41\n",
      "Air Flow Rate (CFM):  76.0\n"
     ]
    }
   ],
   "source": [
    "print(\"Load: \", load)\n",
    "print(\"Engine Speed (rpm): \", espeed)\n",
    "print(\"Torque (lb-f): \", torque)\n",
    "print(\"Power (hp): \", power)\n",
    "print(\"Time for 0.488 L of fuel to leave Burette (s): \", time_2_leave)\n",
    "print(\"Air Flow Rate (CFM): \", air_flow_rate)\n"
   ]
  },
  {
   "cell_type": "code",
   "execution_count": 125,
   "metadata": {},
   "outputs": [
    {
     "data": {
      "text/plain": [
       "[<matplotlib.lines.Line2D at 0x1984dc78830>]"
      ]
     },
     "execution_count": 125,
     "metadata": {},
     "output_type": "execute_result"
    },
    {
     "data": {
      "image/png": "[encoded data removed]",
      "text/plain": [
       "<Figure size 640x480 with 1 Axes>"
      ]
     },
     "metadata": {},
     "output_type": "display_data"
    }
   ],
   "source": [
    "plt.plot(cd1700_clean['rel_crank_ang'], cd1700_clean['pressure_bar'])"
   ]
  },
  {
   "cell_type": "code",
   "execution_count": 13,
   "metadata": {},
   "outputs": [
    {
     "name": "stdout",
     "output_type": "stream",
     "text": [
      "*** DATA SET 2730 ***\n",
      "Top Center Points Found\n",
      "Created new CSV with cleaned crunched data\n",
      "Load:  2.0\n",
      "Engine Speed (rpm):  2600.0\n",
      "Torque (lb-f):  230.0\n",
      "Power (hp):  114.0\n",
      "Time for 0.488 L of fuel to leave Burette (s):  50.26\n",
      "Air Flow Rate (CFM):  162.0\n"
     ]
    },
    {
     "data": {
      "image/png": "[encoded data removed]",
      "text/plain": [
       "<Figure size 640x480 with 1 Axes>"
      ]
     },
     "metadata": {},
     "output_type": "display_data"
    }
   ],
   "source": [
    "print(\"*** DATA SET 2730 ***\")\n",
    "cd2730 = pd.read_csv('2750_001.txt',  sep='\\t', names=['time', 'crank_v', 'pressure_v'])\n",
    "cd2730_clean = get_rel_angs(cd2730, 5, 0.3)\n",
    "eng2_data = engine_df.iloc[1]\n",
    "load = eng2_data[\"Load\"]\n",
    "espeed = eng2_data[\"Engine Speed (rpm)\"]\n",
    "torque = eng2_data[\"Torque (lb-f)\"]\n",
    "power = eng2_data[\"Power (hp)\"]\n",
    "time_2_leave = eng2_data[\"Time for 0.488 L of fuel to leave Burette (s)\"]\n",
    "air_flow_rate = eng2_data[\"Air Flow Rate (CFM)\"]\n",
    "air_in_temp = eng2_data[\"Air Intake Temperature (F)\"]\n",
    "# print('Engine Data Loaded')\n",
    "cd2730_clean.to_csv('clean_2730.csv', index=False)\n",
    "print('Created new CSV with cleaned crunched data')\n",
    "plt.plot(cd2730_clean['rel_crank_ang'], cd2730_clean['pressure_bar'])\n",
    "print(\"Load: \", load)\n",
    "print(\"Engine Speed (rpm): \", espeed)\n",
    "print(\"Torque (lb-f): \", torque)\n",
    "print(\"Power (hp): \", power)\n",
    "print(\"Time for 0.488 L of fuel to leave Burette (s): \", time_2_leave)\n",
    "print(\"Air Flow Rate (CFM): \", air_flow_rate)\n"
   ]
  },
  {
   "cell_type": "code",
   "execution_count": 12,
   "metadata": {},
   "outputs": [
    {
     "name": "stdout",
     "output_type": "stream",
     "text": [
      "*** DATA SET cd4500 ***\n",
      "Top Center Points Found\n",
      "Engine Data Loaded\n"
     ]
    }
   ],
   "source": [
    "print(\"*** DATA SET cd4500 ***\")\n",
    "cd4500 = pd.read_csv('4500_001.txt',  sep='\\t', names=['time', 'crank_v', 'pressure_v'])\n",
    "cd4500_clean = get_rel_angs(cd4500, 6, 4)\n",
    "eng3_data = engine_df.iloc[2]\n",
    "load = eng3_data[\"Load\"]\n",
    "espeed = eng3_data[\"Engine Speed (rpm)\"]\n",
    "torque = eng3_data[\"Torque (lb-f)\"]\n",
    "power = eng3_data[\"Power (hp)\"]\n",
    "time_2_leave = eng3_data[\"Time for 0.488 L of fuel to leave Burette (s)\"]\n",
    "air_flow_rate = eng3_data[\"Air Flow Rate (CFM)\"]\n",
    "air_in_temp = eng3_data[\"Air Intake Temperature (F)\"]\n",
    "print('Engine Data Loaded')\n",
    "### Since data starts at mid cycle when crank angle is at 360, not 0 or 720, need to shift the data by one phase, did not use function\n"
   ]
  },
  {
   "cell_type": "code",
   "execution_count": 14,
   "metadata": {},
   "outputs": [
    {
     "name": "stdout",
     "output_type": "stream",
     "text": [
      "Top Center Points Found\n",
      "54\n",
      "Created new CSV with cleaned crunched data\n"
     ]
    }
   ],
   "source": [
    "df = pd.read_csv('4500_001.txt',  sep='\\t', names=['time', 'crank_v', 'pressure_v'])\n",
    "tc_list = get_tc_list(df, 5, 0.25)\n",
    "print(len(tc_list))\n",
    "ang_dic = {\n",
    "    \"tc_0\":[],\n",
    "    \"tc_360\":[],\n",
    "    \"tc_720\":[],\n",
    "}\n",
    "count = 0\n",
    "for i in tc_list:\n",
    "    if count == 0:\n",
    "        ang_dic['tc_360'] += [i]\n",
    "        count += 1\n",
    "        continue\n",
    "    elif count == 1:\n",
    "        ang_dic['tc_720'] += [i]   \n",
    "        ang_dic['tc_0'] += [i+1]  \n",
    "        count = 0\n",
    "        continue   \n",
    "\n",
    "for index in ang_dic[\"tc_0\"]:\n",
    "    df.loc[index, 'state'] = 'tc_0'\n",
    "    \n",
    "for index in ang_dic[\"tc_360\"]:\n",
    "    df.loc[index, 'state'] = 'tc_360'\n",
    "\n",
    "for index in ang_dic[\"tc_720\"]:\n",
    "    df.loc[index, 'state'] = 'tc_720'\n",
    "\n",
    "df.loc[df['state'] == \"tc_0\", 'rel_crank_ang'] = 0\n",
    "df.loc[df['state'] == \"tc_360\", 'rel_crank_ang'] = 360\n",
    "df.loc[df['state'] == \"tc_720\", 'rel_crank_ang'] = 720\n",
    "\n",
    "tc_list = ang_dic['tc_0'] + ang_dic[\"tc_360\"] + ang_dic[\"tc_720\"]\n",
    "tc_list.sort()\n",
    "for i in range(len(tc_list)):\n",
    "    if i == len(tc_list) - 1:\n",
    "        continue\n",
    "    index = tc_list[i]\n",
    "    ang1 =  df.loc[df.index[tc_list[i]], 'rel_crank_ang']\n",
    "    dp1 = tc_list[i]\n",
    "    ang2 = df.loc[df.index[tc_list[i+1]], 'rel_crank_ang']\n",
    "    dp2 = tc_list[i+1]\n",
    "    slope = (ang2 - ang1)/(dp2-dp1)\n",
    "    points_to_inter = dp2 - dp1\n",
    "    for inter_point in range(points_to_inter):\n",
    "        inter_ang = ang2-(slope*(dp2 - (dp1 + inter_point)))\n",
    "        df.loc[df.index[dp1 + inter_point],'rel_crank_ang'] = inter_ang\n",
    "df.dropna(subset=['rel_crank_ang'])\n",
    "cd4500_clean = scale_pressure(df)\n",
    "cd4500_clean.to_csv('clean_4500.csv', index=False)\n",
    "print('Created new CSV with cleaned crunched data')"
   ]
  },
  {
   "cell_type": "code",
   "execution_count": 15,
   "metadata": {},
   "outputs": [
    {
     "data": {
      "text/plain": [
       "[<matplotlib.lines.Line2D at 0x2478f172510>]"
      ]
     },
     "execution_count": 15,
     "metadata": {},
     "output_type": "execute_result"
    },
    {
     "data": {
      "image/png": "[encoded data removed]",
      "text/plain": [
       "<Figure size 640x480 with 1 Axes>"
      ]
     },
     "metadata": {},
     "output_type": "display_data"
    }
   ],
   "source": [
    "plt.plot(cd4500_clean['rel_crank_ang'], cd4500_clean['pressure_bar'])"
   ]
  }
 ],
 "metadata": {
  "kernelspec": {
   "display_name": "Python 3",
   "language": "python",
   "name": "python3"
  },
  "language_info": {
   "codemirror_mode": {
    "name": "ipython",
    "version": 3
   },
   "file_extension": ".py",
   "mimetype": "text/x-python",
   "name": "python",
   "nbconvert_exporter": "python",
   "pygments_lexer": "ipython3",
   "version": "3.12.1"
  }
 },
 "nbformat": 4,
 "nbformat_minor": 2
}
